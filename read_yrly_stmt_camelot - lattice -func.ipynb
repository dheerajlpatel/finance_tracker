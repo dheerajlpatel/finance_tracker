{
 "cells": [
  {
   "cell_type": "code",
   "execution_count": 18,
   "metadata": {},
   "outputs": [],
   "source": [
    "import camelot\n",
    "import numpy as np\n",
    "import pandas as pd\n",
    "import json\n",
    "import os"
   ]
  },
  {
   "cell_type": "code",
   "execution_count": 19,
   "metadata": {},
   "outputs": [],
   "source": [
    "pd_df_str,concatenated_df_lst,concat_string_final,df_str,concat_df_final = '','','','',''\n",
    "df = []\n",
    "\n",
    "with open('config.json') as f:\n",
    "    config = json.load(f)\n",
    "\n",
    "in_file = config['pdf_input_location']\n",
    "password = config['password']\n",
    "file_list = [x.split('.')[0] for x in os.listdir(in_file['pdf_input_location'])]\n",
    "out_file = config['csv_output_location']"
   ]
  },
  {
   "cell_type": "code",
   "execution_count": 20,
   "metadata": {},
   "outputs": [],
   "source": [
    "def hdfc_yrly_stmt_pdf_to_csv(pdf_path,out_path,password):\n",
    "    \n",
    "    global pd_df_str,tables,pdf_df\n",
    "\n",
    "    #print('Reading tables')\n",
    "    tables = camelot.read_pdf(pdf_path,pages='all',password=password)\n",
    "    \n",
    "    #print('Creating pd_df_str')\n",
    "    for i in range(len(tables)):\n",
    "        pd_df_str += \"\"\"tables[{0}].df,\"\"\".format(i)\n",
    "\n",
    "    #print(\"Creating concat_string\")\n",
    "    concat_string = \"\"\"pdf_df = pd.concat([\"\"\"+pd_df_str[:-1]+\"\"\"],ignore_index=True,axis = 0)\"\"\"\n",
    "\n",
    "    #print(\"Executing concat_string\")\n",
    "    exec(concat_string,globals())\n",
    "\n",
    "    #print(\"pdf_df and pdf_df2 created\")\n",
    "    pdf_df2 = pdf_df    \n",
    "\n",
    "    new_header = pdf_df2.iloc[0]\n",
    "    #print(new_header)\n",
    "    pdf_df3 = pdf_df2[1:]\n",
    "    pdf_df3.columns = new_header\n",
    "    pdf_df3 = pdf_df3.reset_index(drop=True)\n",
    "    pdf_df3['Chq. / Ref No.'] = np.where(((pdf_df3['Chq. / Ref No.']=='') & (pdf_df3['Date']!='')),pdf_df3['Narration'],pdf_df3['Chq. / Ref No.'])\n",
    "    all_col_list = pdf_df3.iloc[0].to_list()    \n",
    "    pdf_df3.to_csv(out_path,header=True,index=False)\n",
    "    \n",
    "\n",
    "    new_header,concat_string,pd_df_str = '','',''\n",
    "    del tables\n",
    "    del pdf_df,pdf_df2\n",
    "    return pdf_df3"
   ]
  },
  {
   "cell_type": "code",
   "execution_count": 21,
   "metadata": {},
   "outputs": [],
   "source": [
    "for i in range(len(file_list)):\n",
    "    df.append(str(\"df{0}\".format(i)))\n",
    "    df_str += \"\"\"df{0},\"\"\".format(i)\n",
    "\n",
    "concat_df_final = \"\"\"concatenated_df = pd.concat([\"\"\"+df_str[:-1]+\"\"\"],ignore_index=True,axis = 0)\"\"\""
   ]
  },
  {
   "cell_type": "code",
   "execution_count": 22,
   "metadata": {},
   "outputs": [
    {
     "name": "stdout",
     "output_type": "stream",
     "text": [
      "  0\n",
      "**In-put file C:\\Users\\pc\\Desktop\\Dheeraj\\Finance analysis\\pdf\\yearly statment\\input\\0968XXXXXX7192_0648a7de_01Jan2022_TO_01Dec2022_205959177.pdf read and conversion to csv started**\n",
      "**Output file C:\\Users\\pc\\Desktop\\Dheeraj\\Finance analysis\\pdf\\yearly statment\\output\\0968XXXXXX7192_0648a7de_01Jan2022_TO_01Dec2022_205959177.csv created**\n",
      " \n",
      "  1\n",
      "**In-put file C:\\Users\\pc\\Desktop\\Dheeraj\\Finance analysis\\pdf\\yearly statment\\input\\0968XXXXXX7192_41589d1c_01Jan2023_TO_01Dec2023_205431694.pdf read and conversion to csv started**\n"
     ]
    }
   ],
   "source": [
    "for i in range(len(file_list)):\n",
    "    print(' ',i)\n",
    "    print('**In-put file {0} read and conversion to csv started**'.format(in_file['pdf_input_location']+file_list[i]+'.pdf'))\n",
    "    df[i] = pd.DataFrame(hdfc_yrly_stmt_pdf_to_csv(in_file['pdf_input_location']+file_list[i]+'.pdf',out_file['csv_output_location']+file_list[i]+'.csv',password['password']))\n",
    "    print('**Output file {0} created**'.format(out_file['csv_output_location']+file_list[i]+'.csv'))\n",
    "    print(' ')"
   ]
  },
  {
   "cell_type": "code",
   "execution_count": null,
   "metadata": {},
   "outputs": [],
   "source": [
    "exec(concat_df_final)"
   ]
  }
 ],
 "metadata": {
  "kernelspec": {
   "display_name": "Python 3",
   "language": "python",
   "name": "python3"
  },
  "language_info": {
   "codemirror_mode": {
    "name": "ipython",
    "version": 3
   },
   "file_extension": ".py",
   "mimetype": "text/x-python",
   "name": "python",
   "nbconvert_exporter": "python",
   "pygments_lexer": "ipython3",
   "version": "3.12.2"
  }
 },
 "nbformat": 4,
 "nbformat_minor": 2
}
