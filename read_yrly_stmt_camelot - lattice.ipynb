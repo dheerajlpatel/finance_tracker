{
 "cells": [
  {
   "cell_type": "code",
   "execution_count": 35,
   "metadata": {},
   "outputs": [],
   "source": [
    "import camelot\n",
    "import numpy as np\n",
    "import pandas as pd\n",
    "pdf_path = r'C:\\Users\\pc\\Desktop\\Dheeraj\\Finance analysis\\pdf\\yearly statment\\0968XXXXXX7192_41589d1c_01Jan2023_TO_01Dec2023_205431694.pdf'\n",
    "#tables = camelot.read_pdf(pdf_path, table_areas=['0,700,800,200'], pages='all', line_scale=40, shift_text=[''])\n",
    "tables = camelot.read_pdf(pdf_path,pages='all')\n",
    "pd_df_str=''\n",
    "run_flg = 'top'"
   ]
  },
  {
   "cell_type": "code",
   "execution_count": 36,
   "metadata": {},
   "outputs": [],
   "source": [
    "for i in range(len(tables)):\n",
    "    pd_df_str += \"\"\"tables[{0}].df,\"\"\".format(i)\n",
    "\n",
    "concat_string = \"\"\"pdf_df = pd.concat([\"\"\"+pd_df_str[:-1]+\"\"\"],ignore_index=True,axis = 0)\"\"\"\n",
    "exec(concat_string)\n",
    "pdf_df2 = pdf_df"
   ]
  },
  {
   "cell_type": "code",
   "execution_count": 39,
   "metadata": {},
   "outputs": [
    {
     "name": "stdout",
     "output_type": "stream",
     "text": [
      "run_flg at top of this step is: ran\n",
      " \n"
     ]
    }
   ],
   "source": [
    "print('run_flg at top of this step is:',run_flg)\n",
    "print(' ')\n",
    "if run_flg != 'top':\n",
    "    #print('=============pdf_df2.iloc[0]==========================')\n",
    "    #print(pdf_df2.iloc[0])\n",
    "    #print('=============new_header===============================')\n",
    "    #print(new_header)\n",
    "    #print('======================================================')\n",
    "    del new_header,pdf_df3\n",
    "    \n",
    "new_header = pdf_df2.iloc[0]\n",
    "pdf_df3 = pdf_df2[1:]\n",
    "pdf_df3.columns = new_header\n",
    "pdf_df3 = pdf_df3.reset_index(drop=True)\n",
    "pdf_df3['Chq. / Ref No.'] = np.where(((pdf_df3['Chq. / Ref No.']=='') & (pdf_df3['Date']!='')),pdf_df3['Narration'],pdf_df3['Chq. / Ref No.'])\n",
    "all_col_list = pdf_df3.iloc[0].to_list()\n",
    "#pdf_df4 = pdf_df3.loc[pdf_df3['Date']!='']\n",
    "\n",
    "run_flg = 'ran'\n"
   ]
  },
  {
   "cell_type": "code",
   "execution_count": 40,
   "metadata": {},
   "outputs": [],
   "source": [
    "pdf_df3.to_csv(r'C:\\Users\\pc\\Desktop\\Dheeraj\\Finance analysis\\pdf\\yearly statment\\0968XXXXXX7192_41589d1c_01Jan2023_TO_01Dec2023_205431694.csv',header=True,index=False)"
   ]
  },
  {
   "cell_type": "code",
   "execution_count": null,
   "metadata": {},
   "outputs": [],
   "source": []
  }
 ],
 "metadata": {
  "kernelspec": {
   "display_name": "Python 3",
   "language": "python",
   "name": "python3"
  },
  "language_info": {
   "codemirror_mode": {
    "name": "ipython",
    "version": 3
   },
   "file_extension": ".py",
   "mimetype": "text/x-python",
   "name": "python",
   "nbconvert_exporter": "python",
   "pygments_lexer": "ipython3",
   "version": "3.12.2"
  }
 },
 "nbformat": 4,
 "nbformat_minor": 2
}
