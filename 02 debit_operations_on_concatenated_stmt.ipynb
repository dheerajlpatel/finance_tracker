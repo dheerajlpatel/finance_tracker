{
 "cells": [
  {
   "cell_type": "code",
   "execution_count": 44,
   "metadata": {},
   "outputs": [],
   "source": [
    "import numpy as np\n",
    "import pandas as pd\n",
    "import json\n",
    "import os\n",
    "#import pdb\n",
    "\n",
    "pd.options.mode.chained_assignment = None"
   ]
  },
  {
   "cell_type": "code",
   "execution_count": 45,
   "metadata": {},
   "outputs": [],
   "source": [
    "with open('config.json') as f:\n",
    "    config = json.load(f)\n",
    "\n",
    "in_file = config['pdf_input_location']\n",
    "password = config['password']\n",
    "file_list = [x.split('.')[0] for x in os.listdir(in_file['pdf_input_location'])]\n",
    "out_file = config['csv_output_location']"
   ]
  },
  {
   "cell_type": "code",
   "execution_count": 46,
   "metadata": {},
   "outputs": [],
   "source": [
    "#Concatenated yearly statment\n",
    "df_in_yrly_stmt = pd.read_csv(out_file['csv_output_location']+'consolidated_yrly_stmt_outfrom_pdf.csv')\n",
    "\n",
    "#Deposits\\dr\\debits in account\n",
    "df_in_yrly_stmt_dr = df_in_yrly_stmt[df_in_yrly_stmt['Deposit Amount'].str.replace(',', '').astype(float) > 0.00]\n",
    "df_in_yrly_stmt_dr['Narration'] = df_in_yrly_stmt_dr['Narration'].str.replace('\\n','')\n",
    "\n",
    "#Deposit lookup which has deposit label defined by user\n",
    "df_in_depost_lookup = pd.read_csv(in_file['pdf_input_location']+'deposit labels lookup.csv')\n",
    "df_in_depost_lookup = df_in_depost_lookup.apply(lambda x: x.astype(str).str.upper())\n",
    "lkp_dct = df_in_depost_lookup.to_dict()"
   ]
  },
  {
   "cell_type": "code",
   "execution_count": 47,
   "metadata": {},
   "outputs": [],
   "source": [
    "for i in lkp_dct:\n",
    "    for j in lkp_dct[i]:\n",
    "        df_in_yrly_stmt_dr.loc[df_in_yrly_stmt_dr['Narration'].str.contains(lkp_dct['Input text'][j]),'Deposit disciription'] = lkp_dct['New text'][j]\n",
    "    break\n",
    "df_in_yrly_stmt_dr = df_in_yrly_stmt_dr.sort_values(by=['Deposit disciription'])"
   ]
  },
  {
   "cell_type": "code",
   "execution_count": 48,
   "metadata": {},
   "outputs": [],
   "source": [
    "df_in_yrly_stmt_dr.to_csv(out_file['csv_output_location']+'02 debit_operations_on_concatenated_stmt.csv',header=True,index=False)"
   ]
  },
  {
   "cell_type": "code",
   "execution_count": 49,
   "metadata": {},
   "outputs": [],
   "source": [
    "%reset -f"
   ]
  }
 ],
 "metadata": {
  "kernelspec": {
   "display_name": "Python 3",
   "language": "python",
   "name": "python3"
  },
  "language_info": {
   "codemirror_mode": {
    "name": "ipython",
    "version": 3
   },
   "file_extension": ".py",
   "mimetype": "text/x-python",
   "name": "python",
   "nbconvert_exporter": "python",
   "pygments_lexer": "ipython3",
   "version": "3.12.2"
  }
 },
 "nbformat": 4,
 "nbformat_minor": 2
}
