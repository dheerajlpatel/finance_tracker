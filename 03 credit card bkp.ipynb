{
 "cells": [
  {
   "cell_type": "code",
   "execution_count": null,
   "metadata": {},
   "outputs": [],
   "source": [
    "import camelot\n",
    "import numpy as np\n",
    "import pandas as pd\n",
    "import json\n",
    "import os\n",
    "#import pdb\n",
    "\n",
    "df_str_cc_lmt,df_str_due_dt,df_str_cc_stmt,concat_df_lmt,concat_df_datconcat_df_smt = '','','','',''\n",
    "df_cc_lmt, df_due_dt, df_cc_stmt = [],[],[]\n",
    "\n",
    "pd.options.mode.chained_assignment = None"
   ]
  },
  {
   "cell_type": "code",
   "execution_count": null,
   "metadata": {},
   "outputs": [],
   "source": [
    "with open('config.json') as f:\n",
    "    config = json.load(f)\n",
    "\n",
    "in_file = config['cc_pdf_input_location']\n",
    "password = config['cc_password']\n",
    "file_list = [x.split('.')[0] for x in os.listdir(in_file['cc_pdf_input_location'])]\n",
    "out_file = config['cc_csv_output_location']\n",
    "\n",
    "for i in range(len(file_list)):\n",
    "    df_cc_lmt.append(str(\"df_cc_lmt{0}\".format(i)))\n",
    "    df_str_cc_lmt += \"\"\"df_cc_lmt[{0}],\"\"\".format(i)\n",
    "\n",
    "    df_due_dt.append(str(\"df_due_dt{0}\".format(i)))\n",
    "    df_str_due_dt += \"\"\"df_due_dt[{0}],\"\"\".format(i)\n",
    "\n",
    "    df_cc_stmt.append(str(\"df_cc_stmt{0}\".format(i)))\n",
    "    df_str_cc_stmt += \"\"\"df_cc_stmt[{0}],\"\"\".format(i)\n",
    "\n",
    "concat_df_lmt = \"\"\"concatenated_df = pd.concat([\"\"\"+df_str_cc_lmt[:-1]+\"\"\"],ignore_index=True,axis = 0)\"\"\"\n",
    "concat_df_dat = \"\"\"concatenated_df = pd.concat([\"\"\"+df_str_due_dt[:-1]+\"\"\"],ignore_index=True,axis = 0)\"\"\"\n",
    "concat_df_smt = \"\"\"concatenated_df = pd.concat([\"\"\"+df_str_cc_stmt[:-1]+\"\"\"],ignore_index=True,axis = 0)\"\"\""
   ]
  },
  {
   "cell_type": "code",
   "execution_count": null,
   "metadata": {},
   "outputs": [],
   "source": [
    "def cc_stmt_decode(pdf_path,out_path,password):\n",
    "    global pdf_due_df,pdf_cc_limit_df,pdf_cc_stmt_df\n",
    "    cc_stmt_lst = []\n",
    "\n",
    "    tables = camelot.read_pdf(pdf_path,pages='all',password=password)\n",
    "\n",
    "    pdf_due_df = pd.DataFrame(tables[0].df.iloc[1:3])\n",
    "    pdf_due_df = pdf_due_df.rename(columns=pdf_due_df.iloc[0]).drop(pdf_due_df.index[0])\n",
    "\n",
    "    pdf_cc_limit_df = pd.DataFrame(tables[0].df.iloc[3:])\n",
    "    pdf_cc_limit_df = pdf_cc_limit_df.rename(columns=pdf_cc_limit_df.iloc[0]).drop(pdf_cc_limit_df.index[0])\n",
    "\n",
    "    pdf_cc_stmt_df = pd.DataFrame(tables[1].df.iloc[0:])\n",
    "    pdf_cc_stmt_df = pdf_cc_stmt_df[pdf_cc_stmt_df[0] != 'Domestic Transactions']\n",
    "    pdf_cc_stmt_df = pdf_cc_stmt_df.rename(columns=pdf_cc_stmt_df.iloc[0]).drop(pdf_cc_stmt_df.index[0])\n",
    "\n",
    "    cc_stmt_lst_dict = pdf_cc_stmt_df.to_dict()\n",
    "    if 'Feature Reward\\nPoints' in cc_stmt_lst_dict.keys():\n",
    "        del cc_stmt_lst_dict['Feature Reward\\nPoints']\n",
    "    dic_key = list(cc_stmt_lst_dict.keys())\n",
    "\n",
    "    for i in cc_stmt_lst_dict:\n",
    "        for j in cc_stmt_lst_dict[i]:\n",
    "            cc_stmt_lst.append(str(cc_stmt_lst_dict[i][j]).split('\\n'))\n",
    "\n",
    "    cc_stmt_lst = [[x for x in sub if x != ' ' and x != 'DHEERAJ PATEL' and x!= 'RUPAL  PATIDAR'] for sub in cc_stmt_lst]\n",
    "    pdf_cc_stmt_df = pd.DataFrame({dic_key[0]:cc_stmt_lst[0],dic_key[1]:cc_stmt_lst[1],dic_key[2]:cc_stmt_lst[2]})\n",
    "\n",
    "    with pd.ExcelWriter(out_path) as writer:\n",
    "        pdf_due_df.to_excel(writer, sheet_name='CC due date')  \n",
    "        pdf_cc_limit_df.to_excel(writer, sheet_name='CC limit')\n",
    "        pdf_cc_stmt_df.to_excel(writer, sheet_name='CC stmt')\n",
    "\n",
    "    return pdf_due_df,pdf_cc_limit_df,pdf_cc_stmt_df"
   ]
  },
  {
   "cell_type": "code",
   "execution_count": null,
   "metadata": {},
   "outputs": [],
   "source": [
    "for i in range(len(file_list)):\n",
    "    print('File number: ',i+1)\n",
    "    print('**In-put file {0} read and conversion to xlsx started**'.format(in_file['cc_pdf_input_location']+file_list[i]+'.pdf'))\n",
    "    df_due_dt[i],df_cc_lmt[i],df_cc_stmt[i] = cc_stmt_decode(in_file['cc_pdf_input_location']+file_list[i]+'.pdf',out_file['cc_csv_output_location']+file_list[i]+'.xlsx',password['cc_password'])\n",
    "    #df[i] = pd.DataFrame(pdf_cc_stmt_df)\n",
    "    print('**Output file {0} created**'.format(out_file['cc_csv_output_location']+file_list[i]+'.xlsx'))\n",
    "    print(' ')\n",
    "#print(concat_df_lmt,concat_df_dat,concat_df_smt)"
   ]
  }
 ],
 "metadata": {
  "kernelspec": {
   "display_name": "Python 3",
   "language": "python",
   "name": "python3"
  },
  "language_info": {
   "name": "python",
   "version": "3.12.2"
  }
 },
 "nbformat": 4,
 "nbformat_minor": 2
}
