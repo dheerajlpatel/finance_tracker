{
 "cells": [
  {
   "cell_type": "code",
   "execution_count": null,
   "metadata": {},
   "outputs": [],
   "source": [
    "def promote_df_headers(df):\n",
    "    '''\n",
    "    Takes a df and uses the first row as the header\n",
    "\n",
    "    Parameters\n",
    "    ----------\n",
    "    df : DataFrame\n",
    "        Any df with one or more columns.\n",
    "\n",
    "    Returns\n",
    "    -------\n",
    "    df : DataFrame\n",
    "        Input df with the first row removed and used as the column names.\n",
    "\n",
    "    '''\n",
    "\n",
    "    new_header = df.iloc[0] \n",
    "    df = df[1:] \n",
    "    df.columns = new_header\n",
    "    df = df.reset_index(drop=True)\n",
    "\n",
    "    return df"
   ]
  }
 ],
 "metadata": {
  "kernelspec": {
   "display_name": "Python 3",
   "language": "python",
   "name": "python3"
  },
  "language_info": {
   "name": "python",
   "version": "3.12.2"
  }
 },
 "nbformat": 4,
 "nbformat_minor": 2
}
