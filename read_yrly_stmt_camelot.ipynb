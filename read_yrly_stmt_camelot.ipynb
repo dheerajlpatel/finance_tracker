{
 "cells": [
  {
   "cell_type": "code",
   "execution_count": 38,
   "metadata": {},
   "outputs": [],
   "source": [
    "import camelot\n",
    "import numpy as np\n",
    "import pandas as pd\n",
    "pdf_path = r'C:\\Users\\pc\\Desktop\\Dheeraj\\Finance analysis\\pdf\\yearly statment\\0968XXXXXX7192_41589d1c_01Jan2023_TO_01Dec2023_205431694.pdf'\n",
    "tables = camelot.read_pdf(pdf_path, flavor='stream', table_areas=['0,700,800,200'], pages='all',split_text=False)\n",
    "pd_df_str=''\n",
    "run_flg = 'top'\n",
    "#tables.export(r'C:\\Users\\pc\\Desktop\\Dheeraj\\Finance analysis\\pdf\\yearly statment\\0968XXXXXX7192_41589d1c_01Jan2023_TO_01Dec2023_205431694.csv', f='csv', compress=False)\n"
   ]
  },
  {
   "cell_type": "code",
   "execution_count": 39,
   "metadata": {},
   "outputs": [],
   "source": [
    "def promote_df_headers(df):\n",
    "    '''\n",
    "    Takes a df and uses the first row as the header\n",
    "\n",
    "    Parameters\n",
    "    ----------\n",
    "    df : DataFrame\n",
    "        Any df with one or more columns.\n",
    "\n",
    "    Returns\n",
    "    -------\n",
    "    df : DataFrame\n",
    "        Input df with the first row removed and used as the column names.\n",
    "\n",
    "    '''\n",
    "\n",
    "    new_header = df.iloc[0] \n",
    "    df = df[1:] \n",
    "    df.columns = new_header\n",
    "    df = df.reset_index(drop=True)\n",
    "\n",
    "    return df"
   ]
  },
  {
   "cell_type": "code",
   "execution_count": 44,
   "metadata": {},
   "outputs": [],
   "source": [
    "for i in range(len(tables)):\n",
    "    pd_df_str += \"\"\"tables[{0}].df,\"\"\".format(i)\n",
    "\n",
    "concat_string = \"\"\"pdf_df = pd.concat([\"\"\"+pd_df_str[:-1]+\"\"\"],ignore_index=True,axis = 0)\"\"\"\n",
    "#print(concat_string)\n",
    "exec(concat_string)\n",
    "#print(pdf_df)\n",
    "if run_flg == 'top':\n",
    "    promote_df_headers(pdf_df)\n",
    "    run_flg = 'ran'\n",
    "    pdf_df"
   ]
  },
  {
   "cell_type": "code",
   "execution_count": null,
   "metadata": {},
   "outputs": [],
   "source": [
    "if run_flag != 'top':\n",
    "    print(run_flag)\n",
    "    del new_header,pdf_df2\n",
    "\n",
    "new_header = pdf_df.iloc[0] \n",
    "pdf_df = pdf_df[1:] \n",
    "pdf_df.columns = new_header\n",
    "pdf_df2 = pdf_df.reset_index(drop=True)\n",
    "\n",
    "run_flag = 'ran'\n",
    "pdf_df2\n"
   ]
  },
  {
   "cell_type": "code",
   "execution_count": null,
   "metadata": {},
   "outputs": [],
   "source": [
    "pdf_df_bfill = pdf_df.replace(r'', np.NaN).bfill().reset_index(drop=True)\n",
    "promote_df_headers(pdf_df_bfill)\n",
    "\n",
    "print(pdf_df_bfill)"
   ]
  },
  {
   "cell_type": "code",
   "execution_count": null,
   "metadata": {},
   "outputs": [],
   "source": [
    "pdf_df_bfill.columns.to_list()"
   ]
  },
  {
   "cell_type": "code",
   "execution_count": null,
   "metadata": {},
   "outputs": [],
   "source": [
    "all_col_list = ['Date','Narration','Chq. / Ref No.','Value Date','Withdrawal Amount','Deposit Amount','Closing Balance*']\n",
    "filter_col_list = ['Chq. / Ref No.']"
   ]
  },
  {
   "cell_type": "code",
   "execution_count": null,
   "metadata": {},
   "outputs": [],
   "source": [
    "pdf_df_bfill[['Chq. / Ref No.']]\n",
    "#pdf_df_filt_col"
   ]
  },
  {
   "cell_type": "code",
   "execution_count": null,
   "metadata": {},
   "outputs": [],
   "source": [
    "tables[0].df.iloc[0].to_list()"
   ]
  },
  {
   "cell_type": "code",
   "execution_count": null,
   "metadata": {},
   "outputs": [],
   "source": [
    "pdf_df_bfill.to_csv(r'C:\\Users\\pc\\Desktop\\Dheeraj\\Finance analysis\\pdf\\yearly statment\\pdf_df_bfill.csv',header=False)"
   ]
  },
  {
   "cell_type": "code",
   "execution_count": null,
   "metadata": {},
   "outputs": [],
   "source": [
    "pdf_df.to_csv(r'C:\\Users\\pc\\Desktop\\Dheeraj\\Finance analysis\\pdf\\yearly statment\\concatenated_hdfc_yrly_stmt.csv')"
   ]
  },
  {
   "cell_type": "code",
   "execution_count": null,
   "metadata": {},
   "outputs": [],
   "source": [
    "for table in tables:\n",
    "    pdf_df = table.df\n",
    "\n",
    "#print(pdf_df)\n",
    "    #pdf_df.to_csv(r'C:\\Users\\pc\\Desktop\\Dheeraj\\Finance analysis\\pdf\\yearly statment\\0968XXXXXX7192_41589d1c_01Jan2023_TO_01Dec2023_205431694.csv')\n",
    "\n",
    "#pdf_df_2 = pdf_df.rename(columns=dict(zip(pdf_df.columns.to_list(),tables[0].df.iloc[0].to_list())))"
   ]
  }
 ],
 "metadata": {
  "kernelspec": {
   "display_name": "Python 3",
   "language": "python",
   "name": "python3"
  },
  "language_info": {
   "codemirror_mode": {
    "name": "ipython",
    "version": 3
   },
   "file_extension": ".py",
   "mimetype": "text/x-python",
   "name": "python",
   "nbconvert_exporter": "python",
   "pygments_lexer": "ipython3",
   "version": "3.12.2"
  }
 },
 "nbformat": 4,
 "nbformat_minor": 2
}
